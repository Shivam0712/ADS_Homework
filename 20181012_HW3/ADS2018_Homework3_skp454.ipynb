{
 "cells": [
  {
   "cell_type": "code",
   "execution_count": 2,
   "metadata": {
    "collapsed": false
   },
   "outputs": [
    {
     "name": "stderr",
     "output_type": "stream",
     "text": [
      "C:\\Program Files\\Anaconda3\\lib\\site-packages\\sklearn\\cross_validation.py:44: DeprecationWarning: This module was deprecated in version 0.18 in favor of the model_selection module into which all the refactored classes and functions are moved. Also note that the interface of the new CV iterators are different from that of this module. This module will be removed in 0.20.\n",
      "  \"This module will be removed in 0.20.\", DeprecationWarning)\n"
     ]
    }
   ],
   "source": [
    "import pandas as pd\n",
    "import numpy as np\n",
    "import statsmodels.formula.api as smf\n",
    "import matplotlib.pylab as plt\n",
    "import seaborn as sbn\n",
    "%matplotlib inline\n",
    "from sklearn.decomposition import PCA\n",
    "from sklearn.cross_validation import train_test_split\n",
    "from sklearn import preprocessing\n",
    "from sklearn import linear_model\n",
    "import statsmodels.api as sm"
   ]
  },
  {
   "cell_type": "markdown",
   "metadata": {},
   "source": [
    "### Question 1. Fit a polynomial model \n",
    "of degree $M=10$ to the data below. Perform Lasso regularization, fitting the model over data1_1, selecting the optimal value of the regularization parameter over the data1_2 (based on validation R2) and testing performance over the data1_3."
   ]
  },
  {
   "cell_type": "markdown",
   "metadata": {},
   "source": [
    "Important - standardize the data before training Lasso model and apply the same $\\mu$ and $\\sigma$ defined over data1_1 to data1_2 and data1_3 during validation/testing (as we are not supposed to learn anything, including normalization coefficients from validation and test data; all the parameters of the model are to be learned from training data exclusively).\n",
    "\n",
    "Visualize the final model against all the data from from training, validation and test samples on the same plot using different colors for points from different samples. For comparison also visualize the true model used to generate the data below - $y=x^4/100+x^3/20+x^2/3+2$.\n",
    "\n",
    "Output the coefficients of the model."
   ]
  },
  {
   "cell_type": "code",
   "execution_count": 3,
   "metadata": {
    "collapsed": false
   },
   "outputs": [
    {
     "data": {
      "text/html": [
       "<div>\n",
       "<table border=\"1\" class=\"dataframe\">\n",
       "  <thead>\n",
       "    <tr style=\"text-align: right;\">\n",
       "      <th></th>\n",
       "      <th>x</th>\n",
       "      <th>y</th>\n",
       "    </tr>\n",
       "  </thead>\n",
       "  <tbody>\n",
       "    <tr>\n",
       "      <th>0</th>\n",
       "      <td>-10.0</td>\n",
       "      <td>62.503031</td>\n",
       "    </tr>\n",
       "    <tr>\n",
       "      <th>1</th>\n",
       "      <td>-9.5</td>\n",
       "      <td>51.410761</td>\n",
       "    </tr>\n",
       "    <tr>\n",
       "      <th>2</th>\n",
       "      <td>-9.0</td>\n",
       "      <td>44.605198</td>\n",
       "    </tr>\n",
       "    <tr>\n",
       "      <th>3</th>\n",
       "      <td>-8.5</td>\n",
       "      <td>24.739247</td>\n",
       "    </tr>\n",
       "    <tr>\n",
       "      <th>4</th>\n",
       "      <td>-8.0</td>\n",
       "      <td>22.200164</td>\n",
       "    </tr>\n",
       "  </tbody>\n",
       "</table>\n",
       "</div>"
      ],
      "text/plain": [
       "      x          y\n",
       "0 -10.0  62.503031\n",
       "1  -9.5  51.410761\n",
       "2  -9.0  44.605198\n",
       "3  -8.5  24.739247\n",
       "4  -8.0  22.200164"
      ]
     },
     "execution_count": 3,
     "metadata": {},
     "output_type": "execute_result"
    }
   ],
   "source": [
    "#generate data and put it in the dataframe\n",
    "np.random.seed(2018)\n",
    "x=np.arange(-10,20,0.5)\n",
    "y=x**4/100+x**3/20+x**2/3+2*x+np.random.normal(loc=0,scale=3,size=60)\n",
    "data1=pd.DataFrame({'x':x,'y':y}) #create a dataframe\n",
    "#slice the data in three pieces (we'll talk about those later)\n",
    "data1_2=data1.loc[40:49]\n",
    "data1_3=data1.loc[50:59]\n",
    "data1=data1.loc[0:39] \n",
    "data1.head() #for now let's stick with this first one"
   ]
  },
  {
   "cell_type": "code",
   "execution_count": 4,
   "metadata": {
    "collapsed": true
   },
   "outputs": [],
   "source": [
    "#generate regressors for data1, data1_2, data1_3\n",
    "for p in range(2,11): #add more powers of x up to 10'th\n",
    "    data1['x%d'%p]=data1.x**p\n",
    "for p in range(2,11): #add more powers of x up to 10'th\n",
    "    data1_2['x%d'%p]=data1_2.x**p\n",
    "for p in range(2,11): #add more powers of x up to 10'th\n",
    "    data1_3['x%d'%p]=data1_3.x**p"
   ]
  },
  {
   "cell_type": "code",
   "execution_count": 5,
   "metadata": {
    "collapsed": false
   },
   "outputs": [
    {
     "data": {
      "text/plain": [
       "'y~x+x2+x3+x4+x5+x6+x7+x8+x9+x10'"
      ]
     },
     "execution_count": 5,
     "metadata": {},
     "output_type": "execute_result"
    }
   ],
   "source": [
    "#consider just the model of degree M=10\n",
    "formula='y~x+'+'+'.join(['x%d'%p for p in range(2,11)]); formula"
   ]
  },
  {
   "cell_type": "code",
   "execution_count": 6,
   "metadata": {
    "collapsed": false
   },
   "outputs": [],
   "source": [
    "#standardise the data including validation and test sets (using normalization learned from training)\n",
    "df_standard=pd.DataFrame()\n",
    "for c in data1.columns:\n",
    "    mu=data1[c].mean()\n",
    "    std=data1[c].std()\n",
    "    df_standaradTemp=pd.DataFrame()\n",
    "    df_standaradTemp.loc[0,'Col']=c\n",
    "    df_standaradTemp.loc[0,'Mean']=mu\n",
    "    df_standaradTemp.loc[0,'Std']=std\n",
    "    df_standard=df_standard.append(df_standaradTemp)\n",
    "    del df_standaradTemp\n",
    "    data1[c]=(data1[c]-mu)/std\n",
    "    data1_2[c]=(data1_2[c]-mu)/std\n",
    "    data1_3[c]=(data1_3[c]-mu)/std    "
   ]
  },
  {
   "cell_type": "code",
   "execution_count": 7,
   "metadata": {
    "collapsed": false
   },
   "outputs": [
    {
     "name": "stderr",
     "output_type": "stream",
     "text": [
      "C:\\Program Files\\Anaconda3\\lib\\site-packages\\sklearn\\linear_model\\coordinate_descent.py:484: ConvergenceWarning: Objective did not converge. You might want to increase the number of iterations. Fitting data with very small alpha may cause precision problems.\n",
      "  ConvergenceWarning)\n"
     ]
    },
    {
     "data": {
      "image/png": "[encoded data removed]",
      "text/plain": [
       "<matplotlib.figure.Figure at 0x24e16409be0>"
      ]
     },
     "metadata": {},
     "output_type": "display_data"
    },
    {
     "name": "stdout",
     "output_type": "stream",
     "text": [
      "Optimal alpha for Lasso=0.008882980908164468\n"
     ]
    }
   ],
   "source": [
    "#fit Lasso for various alpha and tune it to optimize Validation R2\n",
    "\n",
    "# define function for finding optimal alpha\n",
    "def Regularization_fit_alpha(X_train,y_train,X_valid, y_valid, alphas,p=0.4,Graph=False, logl=False):\n",
    "    \n",
    "    RM = lambda a: linear_model.Lasso(fit_intercept=True, alpha=a)\n",
    "    model_label='Lasso'\n",
    "    best_R2 = -1\n",
    "    best_alpha = alphas[0]\n",
    "    R_2_OS=[]\n",
    "    \n",
    "    for i in alphas:\n",
    "        lm = RM(i)\n",
    "        lm.fit(X_train,y_train)  #fit the regularization model\n",
    "        y_predict=lm.predict(X_valid) #compute the prediction for the validation sample \n",
    "        err_OS=y_predict-y_valid\n",
    "        R_2_OS_=1-np.var(err_OS)/np.var(y_valid)\n",
    "        R_2_OS.append(R_2_OS_)\n",
    "        if R_2_OS_ > best_R2:\n",
    "            best_R2 = R_2_OS_\n",
    "            best_alpha = i\n",
    "    \n",
    "    if Graph==True:\n",
    "        plt.title('OS-R-squared for different Alpha')\n",
    "        if logl:\n",
    "            plt.xlabel('ln(Alpha)')\n",
    "            l=np.log(alphas)\n",
    "            bl=np.log(best_alpha)\n",
    "        else:\n",
    "            plt.xlabel('Alpha')\n",
    "            l=alphas\n",
    "            bl=best_alpha\n",
    "        plt.plot(l,R_2_OS,'b',label=model_label)\n",
    "        plt.legend(loc='upper right')\n",
    "        plt.ylabel('R-squared')\n",
    "        plt.axvline(bl,color='r',linestyle='--')\n",
    "\n",
    "        plt.show()\n",
    "    \n",
    "    return best_alpha\n",
    "\n",
    "# Define predictors\n",
    "lis_predictors=['x', 'x2', 'x3', 'x4', 'x5', 'x6', 'x7', 'x8', 'x9', 'x10']\n",
    "\n",
    "# Define list of alphas\n",
    "alphas=np.exp(np.linspace(-10,5,200))\n",
    "\n",
    "# Find optimal alpha\n",
    "alpha_l_optimal=Regularization_fit_alpha(data1[lis_predictors],data1['y'],data1_2[lis_predictors],data1_2['y'],alphas,p=0.4,Graph=True,logl=True)\n",
    "print('Optimal alpha for Lasso={0}'.format(alpha_l_optimal))"
   ]
  },
  {
   "cell_type": "code",
   "execution_count": 8,
   "metadata": {
    "collapsed": false
   },
   "outputs": [
    {
     "name": "stdout",
     "output_type": "stream",
     "text": [
      "The R-squared we found for test Lasso is: 0.997315058957675\n"
     ]
    }
   ],
   "source": [
    "#report test R2\n",
    "\n",
    "Lasso=linear_model.Lasso(fit_intercept=True,alpha=alpha_l_optimal)\n",
    "Lasso.fit(data1[lis_predictors].append(data1_2[lis_predictors]),data1['y'].append(data1_2['y']))\n",
    "p=Lasso.predict(data1_3[lis_predictors])\n",
    "err=p-data1_3['y']\n",
    "R_2_Lasso=1-np.var(err)/np.var(data1_3['y'])\n",
    "print(\"The R-squared we found for test Lasso is: {0}\".format(R_2_Lasso))\n"
   ]
  },
  {
   "cell_type": "code",
   "execution_count": 9,
   "metadata": {
    "collapsed": false
   },
   "outputs": [
    {
     "name": "stdout",
     "output_type": "stream",
     "text": [
      "Lasso Coefficients [ 0.23308403  0.28095947  0.44738912  0.54727436  0.          0.01819468\n",
      "  0.          0.          0.          0.        ]\n"
     ]
    },
    {
     "data": {
      "image/png": "[encoded data removed]",
      "text/plain": [
       "<matplotlib.figure.Figure at 0x24e1a34d550>"
      ]
     },
     "metadata": {},
     "output_type": "display_data"
    }
   ],
   "source": [
    "#visualize the model against all the data from training, validation and test samples\n",
    "data=pd.DataFrame()\n",
    "data=data.append(data1)\n",
    "data=data.append(data1_2)\n",
    "data=data.append(data1_3)\n",
    "    \n",
    "data['y_pred']=Lasso.predict(data[lis_predictors])\n",
    "\n",
    "#data['x_original']=(data['x']*df_standard.loc[df_standard['Col']=='x','Std'][0])+df_standard.loc[df_standard['Col']=='x','Mean'][0]\n",
    "#data['y_original']=(data['y']*df_standard.loc[df_standard['Col']=='y','Std'][0])+df_standard.loc[df_standard['Col']=='y','Mean'][0]\n",
    "#data['y_pred_original']=(data['y_pred']*df_standard.loc[df_standard['Col']=='y','Std'][0])+df_standard.loc[df_standard['Col']=='y','Mean'][0]\n",
    "\n",
    "#visualize the fit\n",
    "#plt.plot(data.x_original,data.y_original,'.r') #plot the data\n",
    "#plt.plot(data.x_original,data.y_pred_original,'b') #plot the regression\n",
    "plt.plot(data.x,data.y,'.r') #plot the data\n",
    "plt.plot(data.x,data.y_pred,'b') #plot the regression\n",
    "\n",
    "plt.legend(loc='lower right')\n",
    "#plt.ylim(700,2000)\n",
    "plt.xlabel('x')\n",
    "plt.ylabel('y')\n",
    "\n",
    "print('Lasso Coefficients', Lasso.coef_)\n"
   ]
  },
  {
   "cell_type": "markdown",
   "metadata": {},
   "source": [
    "### Question 2. P-values and hypothesis testing\n",
    "Suppose that a multiple regression with 7 regressors gave the following p-values for each of them:\n",
    "0.02, 0.1, 3e-15, 0.04, 0.001, 0.06, 0.03.\n",
    "\n",
    "For how many regressors you would reject the null-hypothesis that their corresponding regression coefficient is zero at the 95% confidence level? Please explain."
   ]
  },
  {
   "cell_type": "markdown",
   "metadata": {
    "collapsed": true
   },
   "source": [
    "Answer: We can reject the Null hypothesis for 5 regressors which have p-values 0.02,3e-15,0.04, 0.001 and 0.03.\n",
    "\n",
    "For all these regressors p-value is smaller than the threshold of 0.05 which is required for 95% confidence interval."
   ]
  },
  {
   "cell_type": "markdown",
   "metadata": {},
   "source": [
    "### Question 3. Confidence intervals\n",
    "Assume we perform a regression and get an estimate 10 for the slope coefficient for the regressor of interest. Select all statements that can not be true for its confidence intervals:\n",
    "\n",
    "a. 95%-confidence interval is [-5, 5]\n",
    "\n",
    "b. 99%-conficence interval is [9.99,10.01]\n",
    "\n",
    "c. 95%-confidence interval is [9,100]\n",
    "\n",
    "d. 99%-confidence interval is [8, 12], while 95%-confidence interval is [9, 11].\n",
    "\n",
    "Explain your choices"
   ]
  },
  {
   "cell_type": "markdown",
   "metadata": {
    "collapsed": true
   },
   "source": [
    "Answer: All the above options are not true as confidence interval cannot be calculated only by the estimate for the slope coefficient. In addition to estimate for the slope coeffiecient we require the standard error to calculate the confidence interval."
   ]
  },
  {
   "cell_type": "markdown",
   "metadata": {},
   "source": [
    "# Principal component regression"
   ]
  },
  {
   "cell_type": "markdown",
   "metadata": {},
   "source": [
    "### Question 4\n",
    "\n",
    "Using the median price per sq.foot from Zillow data below as reported for 2018-08, fit the linear model using N leading principal components of the 311 data and perform cross-validation. Visualize performance depending on the number N of leading PCs. Specifically: \n",
    "    1. implement a 20-times-cross-validation as a function of N returing OS R2\n",
    "    2. run it for N=1,2,...30, return the best N and the corresponding R2\n",
    "    3. mark it with a vertical line on the plot and put the value of N and the corresponding R2 as text labels\n",
    "**Important:** keep training pca over the training sample only, applying the same pca transform to the test samples in order to prepare regressors for them"
   ]
  },
  {
   "cell_type": "code",
   "execution_count": 10,
   "metadata": {
    "collapsed": false
   },
   "outputs": [],
   "source": [
    "# Write code here\n",
    "zillow=pd.read_csv(\"data/Zip_MedianListingPricePerSqft_AllHomes.csv\",index_col=0)"
   ]
  },
  {
   "cell_type": "markdown",
   "metadata": {},
   "source": [
    "**Load/process 311 data**"
   ]
  },
  {
   "cell_type": "code",
   "execution_count": 11,
   "metadata": {
    "collapsed": false
   },
   "outputs": [
    {
     "data": {
      "text/html": [
       "<div>\n",
       "<table border=\"1\" class=\"dataframe\">\n",
       "  <thead>\n",
       "    <tr style=\"text-align: right;\">\n",
       "      <th></th>\n",
       "      <th>Zip</th>\n",
       "      <th>Complain</th>\n",
       "      <th>Count</th>\n",
       "    </tr>\n",
       "  </thead>\n",
       "  <tbody>\n",
       "    <tr>\n",
       "      <th>1</th>\n",
       "      <td>NaN</td>\n",
       "      <td>Adopt-A-Basket</td>\n",
       "      <td>5</td>\n",
       "    </tr>\n",
       "    <tr>\n",
       "      <th>2</th>\n",
       "      <td>10001</td>\n",
       "      <td>Adopt-A-Basket</td>\n",
       "      <td>1</td>\n",
       "    </tr>\n",
       "    <tr>\n",
       "      <th>3</th>\n",
       "      <td>10003</td>\n",
       "      <td>Adopt-A-Basket</td>\n",
       "      <td>1</td>\n",
       "    </tr>\n",
       "    <tr>\n",
       "      <th>4</th>\n",
       "      <td>10009</td>\n",
       "      <td>Adopt-A-Basket</td>\n",
       "      <td>1</td>\n",
       "    </tr>\n",
       "    <tr>\n",
       "      <th>5</th>\n",
       "      <td>10010</td>\n",
       "      <td>Adopt-A-Basket</td>\n",
       "      <td>1</td>\n",
       "    </tr>\n",
       "  </tbody>\n",
       "</table>\n",
       "</div>"
      ],
      "text/plain": [
       "     Zip        Complain  Count\n",
       "1    NaN  Adopt-A-Basket      5\n",
       "2  10001  Adopt-A-Basket      1\n",
       "3  10003  Adopt-A-Basket      1\n",
       "4  10009  Adopt-A-Basket      1\n",
       "5  10010  Adopt-A-Basket      1"
      ]
     },
     "execution_count": 11,
     "metadata": {},
     "output_type": "execute_result"
    }
   ],
   "source": [
    "data311 = pd.read_csv( 'data/aggr311.csv' , index_col=0 )\n",
    "data311.head()"
   ]
  },
  {
   "cell_type": "code",
   "execution_count": 12,
   "metadata": {
    "collapsed": false
   },
   "outputs": [
    {
     "data": {
      "text/html": [
       "<div>\n",
       "<table border=\"1\" class=\"dataframe\">\n",
       "  <thead>\n",
       "    <tr style=\"text-align: right;\">\n",
       "      <th>Complain</th>\n",
       "      <th>APPLIANCE</th>\n",
       "      <th>Adopt-A-Basket</th>\n",
       "      <th>Air Quality</th>\n",
       "      <th>Animal Abuse</th>\n",
       "      <th>Animal Facility - No Permit</th>\n",
       "      <th>Animal in a Park</th>\n",
       "      <th>Asbestos</th>\n",
       "      <th>BEST/Site Safety</th>\n",
       "      <th>Beach/Pool/Sauna Complaint</th>\n",
       "      <th>Bike Rack Condition</th>\n",
       "      <th>...</th>\n",
       "      <th>Unsanitary Pigeon Condition</th>\n",
       "      <th>Urinating in Public</th>\n",
       "      <th>Vacant Lot</th>\n",
       "      <th>Vending</th>\n",
       "      <th>Violation of Park Rules</th>\n",
       "      <th>Water Conservation</th>\n",
       "      <th>Water Quality</th>\n",
       "      <th>Water System</th>\n",
       "      <th>Window Guard</th>\n",
       "      <th>X-Ray Machine/Equipment</th>\n",
       "    </tr>\n",
       "    <tr>\n",
       "      <th>Zip</th>\n",
       "      <th></th>\n",
       "      <th></th>\n",
       "      <th></th>\n",
       "      <th></th>\n",
       "      <th></th>\n",
       "      <th></th>\n",
       "      <th></th>\n",
       "      <th></th>\n",
       "      <th></th>\n",
       "      <th></th>\n",
       "      <th></th>\n",
       "      <th></th>\n",
       "      <th></th>\n",
       "      <th></th>\n",
       "      <th></th>\n",
       "      <th></th>\n",
       "      <th></th>\n",
       "      <th></th>\n",
       "      <th></th>\n",
       "      <th></th>\n",
       "      <th></th>\n",
       "    </tr>\n",
       "  </thead>\n",
       "  <tbody>\n",
       "    <tr>\n",
       "      <th>10000.0</th>\n",
       "      <td>0</td>\n",
       "      <td>0</td>\n",
       "      <td>1</td>\n",
       "      <td>0</td>\n",
       "      <td>0</td>\n",
       "      <td>1</td>\n",
       "      <td>0</td>\n",
       "      <td>0</td>\n",
       "      <td>0</td>\n",
       "      <td>0</td>\n",
       "      <td>...</td>\n",
       "      <td>0</td>\n",
       "      <td>0</td>\n",
       "      <td>0</td>\n",
       "      <td>8</td>\n",
       "      <td>8</td>\n",
       "      <td>0</td>\n",
       "      <td>0</td>\n",
       "      <td>0</td>\n",
       "      <td>0</td>\n",
       "      <td>0</td>\n",
       "    </tr>\n",
       "    <tr>\n",
       "      <th>10001.0</th>\n",
       "      <td>0</td>\n",
       "      <td>1</td>\n",
       "      <td>90</td>\n",
       "      <td>0</td>\n",
       "      <td>0</td>\n",
       "      <td>1</td>\n",
       "      <td>20</td>\n",
       "      <td>36</td>\n",
       "      <td>1</td>\n",
       "      <td>1</td>\n",
       "      <td>...</td>\n",
       "      <td>3</td>\n",
       "      <td>0</td>\n",
       "      <td>2</td>\n",
       "      <td>51</td>\n",
       "      <td>5</td>\n",
       "      <td>5</td>\n",
       "      <td>2</td>\n",
       "      <td>366</td>\n",
       "      <td>0</td>\n",
       "      <td>0</td>\n",
       "    </tr>\n",
       "    <tr>\n",
       "      <th>10002.0</th>\n",
       "      <td>15</td>\n",
       "      <td>0</td>\n",
       "      <td>80</td>\n",
       "      <td>0</td>\n",
       "      <td>0</td>\n",
       "      <td>21</td>\n",
       "      <td>18</td>\n",
       "      <td>20</td>\n",
       "      <td>2</td>\n",
       "      <td>6</td>\n",
       "      <td>...</td>\n",
       "      <td>5</td>\n",
       "      <td>1</td>\n",
       "      <td>4</td>\n",
       "      <td>27</td>\n",
       "      <td>14</td>\n",
       "      <td>10</td>\n",
       "      <td>7</td>\n",
       "      <td>324</td>\n",
       "      <td>0</td>\n",
       "      <td>0</td>\n",
       "    </tr>\n",
       "    <tr>\n",
       "      <th>10003.0</th>\n",
       "      <td>15</td>\n",
       "      <td>1</td>\n",
       "      <td>143</td>\n",
       "      <td>0</td>\n",
       "      <td>2</td>\n",
       "      <td>44</td>\n",
       "      <td>24</td>\n",
       "      <td>13</td>\n",
       "      <td>2</td>\n",
       "      <td>2</td>\n",
       "      <td>...</td>\n",
       "      <td>7</td>\n",
       "      <td>11</td>\n",
       "      <td>2</td>\n",
       "      <td>54</td>\n",
       "      <td>25</td>\n",
       "      <td>12</td>\n",
       "      <td>5</td>\n",
       "      <td>318</td>\n",
       "      <td>0</td>\n",
       "      <td>0</td>\n",
       "    </tr>\n",
       "    <tr>\n",
       "      <th>10004.0</th>\n",
       "      <td>0</td>\n",
       "      <td>0</td>\n",
       "      <td>15</td>\n",
       "      <td>0</td>\n",
       "      <td>0</td>\n",
       "      <td>4</td>\n",
       "      <td>3</td>\n",
       "      <td>1</td>\n",
       "      <td>0</td>\n",
       "      <td>1</td>\n",
       "      <td>...</td>\n",
       "      <td>1</td>\n",
       "      <td>1</td>\n",
       "      <td>0</td>\n",
       "      <td>16</td>\n",
       "      <td>21</td>\n",
       "      <td>0</td>\n",
       "      <td>0</td>\n",
       "      <td>37</td>\n",
       "      <td>0</td>\n",
       "      <td>0</td>\n",
       "    </tr>\n",
       "  </tbody>\n",
       "</table>\n",
       "<p>5 rows × 162 columns</p>\n",
       "</div>"
      ],
      "text/plain": [
       "Complain  APPLIANCE  Adopt-A-Basket  Air Quality  Animal Abuse  \\\n",
       "Zip                                                              \n",
       "10000.0           0               0            1             0   \n",
       "10001.0           0               1           90             0   \n",
       "10002.0          15               0           80             0   \n",
       "10003.0          15               1          143             0   \n",
       "10004.0           0               0           15             0   \n",
       "\n",
       "Complain  Animal Facility - No Permit  Animal in a Park  Asbestos  \\\n",
       "Zip                                                                 \n",
       "10000.0                             0                 1         0   \n",
       "10001.0                             0                 1        20   \n",
       "10002.0                             0                21        18   \n",
       "10003.0                             2                44        24   \n",
       "10004.0                             0                 4         3   \n",
       "\n",
       "Complain  BEST/Site Safety  Beach/Pool/Sauna Complaint  Bike Rack Condition  \\\n",
       "Zip                                                                           \n",
       "10000.0                  0                           0                    0   \n",
       "10001.0                 36                           1                    1   \n",
       "10002.0                 20                           2                    6   \n",
       "10003.0                 13                           2                    2   \n",
       "10004.0                  1                           0                    1   \n",
       "\n",
       "Complain           ...             Unsanitary Pigeon Condition  \\\n",
       "Zip                ...                                           \n",
       "10000.0            ...                                       0   \n",
       "10001.0            ...                                       3   \n",
       "10002.0            ...                                       5   \n",
       "10003.0            ...                                       7   \n",
       "10004.0            ...                                       1   \n",
       "\n",
       "Complain  Urinating in Public  Vacant Lot  Vending  Violation of Park Rules  \\\n",
       "Zip                                                                           \n",
       "10000.0                     0           0        8                        8   \n",
       "10001.0                     0           2       51                        5   \n",
       "10002.0                     1           4       27                       14   \n",
       "10003.0                    11           2       54                       25   \n",
       "10004.0                     1           0       16                       21   \n",
       "\n",
       "Complain  Water Conservation  Water Quality  Water System  Window Guard  \\\n",
       "Zip                                                                       \n",
       "10000.0                    0              0             0             0   \n",
       "10001.0                    5              2           366             0   \n",
       "10002.0                   10              7           324             0   \n",
       "10003.0                   12              5           318             0   \n",
       "10004.0                    0              0            37             0   \n",
       "\n",
       "Complain  X-Ray Machine/Equipment  \n",
       "Zip                                \n",
       "10000.0                         0  \n",
       "10001.0                         0  \n",
       "10002.0                         0  \n",
       "10003.0                         0  \n",
       "10004.0                         0  \n",
       "\n",
       "[5 rows x 162 columns]"
      ]
     },
     "execution_count": 12,
     "metadata": {},
     "output_type": "execute_result"
    }
   ],
   "source": [
    "data311.Zip=pd.to_numeric(data311.Zip,errors='coerce')\n",
    "data311=data311.loc[(data311.Zip>=10000)&(data311.Zip<11500)] #take only NYC zip codes\n",
    "data311=pd.pivot_table(data311,index='Zip',columns='Complain',values='Count',fill_value=0)\n",
    "data311.head()"
   ]
  },
  {
   "cell_type": "code",
   "execution_count": 13,
   "metadata": {
    "collapsed": true
   },
   "outputs": [],
   "source": [
    "Total311=data311.sum(axis=1) #total 311 activity per zip code\n",
    "data311=data311.div(data311.sum(axis=1), axis=0) #normalize activity of various cathegories within zip code by total\n",
    "data311=data311.loc[Total311>100] #keep only those zip codes having sufficient activity\n",
    "#data311=data311.reset_index()"
   ]
  },
  {
   "cell_type": "code",
   "execution_count": 14,
   "metadata": {
    "collapsed": false
   },
   "outputs": [],
   "source": [
    "# merge both the datas\n",
    "data= data311.merge(zillow[['2018-07','2018-08']], left_index= True, right_index= True ,how='inner')\n",
    "Y=data['2018-08']\n",
    "data=data.drop(['2018-07','2018-08'], axis=1)"
   ]
  },
  {
   "cell_type": "code",
   "execution_count": 15,
   "metadata": {
    "collapsed": false
   },
   "outputs": [],
   "source": [
    "# define function to obtain optimum number of principal components for best Out of smaple R2\n",
    "# by performing 20 fold cross validation\n",
    "\n",
    "def pca_r2(data,Y,N, cv_folds, Graph=True):\n",
    "    best_R2 = -1\n",
    "    best_N = -1\n",
    "    R_IS_Overall=[]\n",
    "    R_OS_Overall=[]\n",
    "    for npca in N:\n",
    "        np.random.seed(0)\n",
    "        # Apply cross-validation to diagnose model for overfitting\n",
    "        R_IS=[]; R_OS=[] #lists for recording in-sample (training) and out-of-sample (test) R2\n",
    "        n=cv_folds #number of runs\n",
    "        for i in range(n):\n",
    "            X_train, X_test, y_train, y_test = train_test_split(data.iloc[:,:],Y,test_size=0.3) #randomly split data into training (70%) and test (30%)\n",
    "            #now apply PCA to the training data\n",
    "            pca = PCA(npca) #take only N leading principal components to get enough data but avoid overfitting\n",
    "            P_train=pca.fit_transform(X_train)\n",
    "            res=smf.OLS(np.array(y_train),sm.add_constant(P_train)).fit()\n",
    "            #and apply the same rotation transform we learned for training sample to the test sample\n",
    "            #this is important that we learn PCA transform from the training sample only rather than from both - training and test\n",
    "            #as this is part of the principle component regression we need to train; and all training should happen over the training set\n",
    "            P_test=pca.transform(X_test)\n",
    "            y_pred=np.array(res.predict(sm.add_constant(P_test)))\n",
    "            #print(y_pred)\n",
    "            #print(y_test)\n",
    "            R_IS.append(res.rsquared)                                                                     \n",
    "            err=y_pred-np.array(y_test)\n",
    "            R_OS.append(1-((y_pred-np.array(y_test))**2).sum()/((np.array(y_test)-np.mean(np.array(y_test)))**2).sum())    \n",
    "        R_IS_Overall.append(np.mean(R_IS))\n",
    "        R_OS_Overall.append(np.mean(R_OS))\n",
    "        if np.mean(R_OS) > best_R2:\n",
    "            best_R2 = np.mean(R_OS)\n",
    "            best_N = npca\n",
    "    print(\"The optimum number of Principal Component are: \", best_N)\n",
    "    print(\"The best OS-R-squared is: \", best_R2)\n",
    "    \n",
    "    if Graph==True:\n",
    "        plt.title('OS-R-squared for different N')\n",
    "        plt.xlabel('Number of Principal Component')\n",
    "        plt.plot(N,R_OS_Overall,'b',label='20 Fold CV_Score')\n",
    "        plt.legend(loc='upper right')\n",
    "        plt.ylabel('R-squared')\n",
    "        plt.axvline(best_N,color='r',linestyle='--')\n",
    "\n",
    "        plt.show()"
   ]
  },
  {
   "cell_type": "code",
   "execution_count": 16,
   "metadata": {
    "collapsed": false
   },
   "outputs": [
    {
     "name": "stdout",
     "output_type": "stream",
     "text": [
      "The optimum number of Principal Component are:  16\n",
      "The best OS-R-squared is:  0.821194145081\n"
     ]
    },
    {
     "data": {
      "image/png": "[encoded data removed]",
      "text/plain": [
       "<matplotlib.figure.Figure at 0x24e1a923048>"
      ]
     },
     "metadata": {},
     "output_type": "display_data"
    }
   ],
   "source": [
    "# run the function\n",
    "pca_r2(data,Y,list(range(1,31)), 20, Graph=True)"
   ]
  },
  {
   "cell_type": "markdown",
   "metadata": {},
   "source": [
    "### Question 5\n",
    "1. Using the Zillow dataset from question 4, run PCA on the price dynamics for zip codes over the last 5 years \n",
    "    1. take only those zip codes within NYC having price defined for the last 60 months from 2013-09 till 2018-08:\n",
    "    2. normalize each zip code timeline by average price over this period\n",
    "    3. standardize those normalized prices per month and use them as features\n",
    "    4. run pca over those features\n",
    "\n",
    "2. Visualize zip codes in the 2d space of first two principal components, coloring them by borough (feel free to use borough definition from the class notebook). "
   ]
  },
  {
   "cell_type": "code",
   "execution_count": 17,
   "metadata": {
    "collapsed": false
   },
   "outputs": [
    {
     "data": {
      "image/png": "[encoded data removed]",
      "text/plain": [
       "<matplotlib.figure.Figure at 0x24e1a91fe80>"
      ]
     },
     "metadata": {},
     "output_type": "display_data"
    }
   ],
   "source": [
    "# Subset data with required rows and columns\n",
    "zillow_new=zillow.loc[zillow['City']=='New York',['City', 'State', 'Metro', 'CountyName', 'SizeRank'] + list(zillow)[-60:]]\n",
    "\n",
    "# drop na values\n",
    "zillow_new = zillow_new.dropna()\n",
    "\n",
    "# normalize rows by last 60 months average\n",
    "zillow_new[list(zillow_new)[-60:]]=zillow_new[list(zillow_new)[-60:]].div(zillow_new[list(zillow_new)[-60:]].mean(axis=1), axis=0) #normalize activity of various cathegories within zip code by total\n",
    "\n",
    "# Standardize month columns\n",
    "for c in list(zillow_new)[-60:]:\n",
    "    zillow_new[c]=zillow_new[c]-zillow_new[c].mean()/zillow_new[c].std()\n",
    "\n",
    "# Apply PCA and obtain first 2 principal components    \n",
    "pca = PCA(len(list(zillow_new)[-60:]))\n",
    "P_train=pca.fit_transform(zillow_new[list(zillow_new)[-60:]])\n",
    "zillow_new['P1']=P_train[:,0]\n",
    "zillow_new['P2']=P_train[:,1]\n",
    "\n",
    "# Plot first 2 principal component and color as per borough name\n",
    "groups =zillow_new.groupby('CountyName')\n",
    "fig, ax = plt.subplots()\n",
    "ax.margins(0.01) # Optional, just adds 5% padding to the autoscaling\n",
    "for name, group in groups:\n",
    "    ax.plot(group.P1, group.P2, marker='o', linestyle='', ms=5, label=name)\n",
    "ax.legend()\n",
    "plt.xlabel('P1')\n",
    "plt.ylabel('P2')\n",
    "plt.show()\n"
   ]
  }
 ],
 "metadata": {
  "anaconda-cloud": {},
  "kernelspec": {
   "display_name": "Python [default]",
   "language": "python",
   "name": "python3"
  },
  "language_info": {
   "codemirror_mode": {
    "name": "ipython",
    "version": 3
   },
   "file_extension": ".py",
   "mimetype": "text/x-python",
   "name": "python",
   "nbconvert_exporter": "python",
   "pygments_lexer": "ipython3",
   "version": "3.5.2"
  }
 },
 "nbformat": 4,
 "nbformat_minor": 2
}
