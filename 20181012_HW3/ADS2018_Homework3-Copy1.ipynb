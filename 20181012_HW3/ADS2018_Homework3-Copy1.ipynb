{
 "cells": [
  {
   "cell_type": "code",
   "execution_count": 2,
   "metadata": {
    "collapsed": false
   },
   "outputs": [
    {
     "name": "stderr",
     "output_type": "stream",
     "text": [
      "C:\\Program Files\\Anaconda3\\lib\\site-packages\\sklearn\\cross_validation.py:44: DeprecationWarning: This module was deprecated in version 0.18 in favor of the model_selection module into which all the refactored classes and functions are moved. Also note that the interface of the new CV iterators are different from that of this module. This module will be removed in 0.20.\n",
      "  \"This module will be removed in 0.20.\", DeprecationWarning)\n"
     ]
    }
   ],
   "source": [
    "import pandas as pd\n",
    "import numpy as np\n",
    "import statsmodels.formula.api as smf\n",
    "import matplotlib.pylab as plt\n",
    "import seaborn as sbn\n",
    "%matplotlib inline\n",
    "from sklearn.decomposition import PCA\n",
    "from sklearn.cross_validation import train_test_split\n",
    "from sklearn import preprocessing\n",
    "from sklearn import linear_model\n",
    "import statsmodels.api as sm"
   ]
  },
  {
   "cell_type": "markdown",
   "metadata": {},
   "source": [
    "### Question 1. Fit a polynomial model \n",
    "of degree $M=10$ to the data below. Perform Lasso regularization, fitting the model over data1_1, selecting the optimal value of the regularization parameter over the data1_2 (based on validation R2) and testing performance over the data1_3."
   ]
  },
  {
   "cell_type": "markdown",
   "metadata": {},
   "source": [
    "Important - standardize the data before training Lasso model and apply the same $\\mu$ and $\\sigma$ defined over data1_1 to data1_2 and data1_3 during validation/testing (as we are not supposed to learn anything, including normalization coefficients from validation and test data; all the parameters of the model are to be learned from training data exclusively).\n",
    "\n",
    "Visualize the final model against all the data from from training, validation and test samples on the same plot using different colors for points from different samples. For comparison also visualize the true model used to generate the data below - $y=x^4/100+x^3/20+x^2/3+2$.\n",
    "\n",
    "Output the coefficients of the model."
   ]
  },
  {
   "cell_type": "code",
   "execution_count": 3,
   "metadata": {
    "collapsed": false
   },
   "outputs": [
    {
     "data": {
      "text/html": [
       "<div>\n",
       "<table border=\"1\" class=\"dataframe\">\n",
       "  <thead>\n",
       "    <tr style=\"text-align: right;\">\n",
       "      <th></th>\n",
       "      <th>x</th>\n",
       "      <th>y</th>\n",
       "    </tr>\n",
       "  </thead>\n",
       "  <tbody>\n",
       "    <tr>\n",
       "      <th>0</th>\n",
       "      <td>-10.0</td>\n",
       "      <td>62.503031</td>\n",
       "    </tr>\n",
       "    <tr>\n",
       "      <th>1</th>\n",
       "      <td>-9.5</td>\n",
       "      <td>51.410761</td>\n",
       "    </tr>\n",
       "    <tr>\n",
       "      <th>2</th>\n",
       "      <td>-9.0</td>\n",
       "      <td>44.605198</td>\n",
       "    </tr>\n",
       "    <tr>\n",
       "      <th>3</th>\n",
       "      <td>-8.5</td>\n",
       "      <td>24.739247</td>\n",
       "    </tr>\n",
       "    <tr>\n",
       "      <th>4</th>\n",
       "      <td>-8.0</td>\n",
       "      <td>22.200164</td>\n",
       "    </tr>\n",
       "  </tbody>\n",
       "</table>\n",
       "</div>"
      ],
      "text/plain": [
       "      x          y\n",
       "0 -10.0  62.503031\n",
       "1  -9.5  51.410761\n",
       "2  -9.0  44.605198\n",
       "3  -8.5  24.739247\n",
       "4  -8.0  22.200164"
      ]
     },
     "execution_count": 3,
     "metadata": {},
     "output_type": "execute_result"
    }
   ],
   "source": [
    "#generate data and put it in the dataframe\n",
    "np.random.seed(2018)\n",
    "x=np.arange(-10,20,0.5)\n",
    "y=x**4/100+x**3/20+x**2/3+2*x+np.random.normal(loc=0,scale=3,size=60)\n",
    "data1=pd.DataFrame({'x':x,'y':y}) #create a dataframe\n",
    "#slice the data in three pieces (we'll talk about those later)\n",
    "data1_2=data1.loc[40:49]\n",
    "data1_3=data1.loc[50:59]\n",
    "data1=data1.loc[0:39] \n",
    "data1.head() #for now let's stick with this first one"
   ]
  },
  {
   "cell_type": "code",
   "execution_count": 4,
   "metadata": {
    "collapsed": true
   },
   "outputs": [],
   "source": [
    "#generate regressors for data1, data1_2, data1_3\n",
    "for p in range(2,11): #add more powers of x up to 10'th\n",
    "    data1['x%d'%p]=data1.x**p\n",
    "for p in range(2,11): #add more powers of x up to 10'th\n",
    "    data1_2['x%d'%p]=data1_2.x**p\n",
    "for p in range(2,11): #add more powers of x up to 10'th\n",
    "    data1_3['x%d'%p]=data1_3.x**p"
   ]
  },
  {
   "cell_type": "code",
   "execution_count": 5,
   "metadata": {
    "collapsed": false
   },
   "outputs": [
    {
     "data": {
      "text/plain": [
       "'y~x+x2+x3+x4+x5+x6+x7+x8+x9+x10'"
      ]
     },
     "execution_count": 5,
     "metadata": {},
     "output_type": "execute_result"
    }
   ],
   "source": [
    "#consider just the model of degree M=10\n",
    "formula='y~x+'+'+'.join(['x%d'%p for p in range(2,11)]); formula"
   ]
  },
  {
   "cell_type": "code",
   "execution_count": 6,
   "metadata": {
    "collapsed": false
   },
   "outputs": [],
   "source": [
    "#standardise the data including validation and test sets (using normalization learned from training)\n",
    "df_standard=pd.DataFrame()\n",
    "for c in data1.columns:\n",
    "    mu=data1[c].mean()\n",
    "    std=data1[c].std()\n",
    "    df_standaradTemp=pd.DataFrame()\n",
    "    df_standaradTemp.loc[0,'Col']=c\n",
    "    df_standaradTemp.loc[0,'Mean']=mu\n",
    "    df_standaradTemp.loc[0,'Std']=std\n",
    "    df_standard=df_standard.append(df_standaradTemp)\n",
    "    del df_standaradTemp\n",
    "    data1[c]=(data1[c]-mu)/std\n",
    "    data1_2[c]=(data1_2[c]-mu)/std\n",
    "    data1_3[c]=(data1_3[c]-mu)/std    "
   ]
  },
  {
   "cell_type": "code",
   "execution_count": 7,
   "metadata": {
    "collapsed": false
   },
   "outputs": [
    {
     "name": "stderr",
     "output_type": "stream",
     "text": [
      "C:\\Program Files\\Anaconda3\\lib\\site-packages\\sklearn\\linear_model\\coordinate_descent.py:484: ConvergenceWarning: Objective did not converge. You might want to increase the number of iterations. Fitting data with very small alpha may cause precision problems.\n",
      "  ConvergenceWarning)\n"
     ]
    },
    {
     "data": {
      "image/png": "[encoded data removed]",
      "text/plain": [
       "<matplotlib.figure.Figure at 0x14b16647a20>"
      ]
     },
     "metadata": {},
     "output_type": "display_data"
    },
    {
     "name": "stdout",
     "output_type": "stream",
     "text": [
      "Optimal alpha for Lasso=0.008882980908164468\n"
     ]
    }
   ],
   "source": [
    "#fit Lasso for various alpha and tune it to optimize Validation R2\n",
    "\n",
    "# define function for finding optimal alpha\n",
    "def Regularization_fit_alpha(X_train,y_train,X_valid, y_valid, alphas,p=0.4,Graph=False, logl=False):\n",
    "    \n",
    "    RM = lambda a: linear_model.Lasso(fit_intercept=True, alpha=a)\n",
    "    model_label='Lasso'\n",
    "    best_R2 = -1\n",
    "    best_alpha = alphas[0]\n",
    "    R_2_OS=[]\n",
    "    \n",
    "    for i in alphas:\n",
    "        lm = RM(i)\n",
    "        lm.fit(X_train,y_train)  #fit the regularization model\n",
    "        y_predict=lm.predict(X_valid) #compute the prediction for the validation sample \n",
    "        err_OS=y_predict-y_valid\n",
    "        R_2_OS_=1-np.var(err_OS)/np.var(y_valid)\n",
    "        R_2_OS.append(R_2_OS_)\n",
    "        if R_2_OS_ > best_R2:\n",
    "            best_R2 = R_2_OS_\n",
    "            best_alpha = i\n",
    "    \n",
    "    if Graph==True:\n",
    "        plt.title('OS-R-squared for different Alpha')\n",
    "        if logl:\n",
    "            plt.xlabel('ln(Alpha)')\n",
    "            l=np.log(alphas)\n",
    "            bl=np.log(best_alpha)\n",
    "        else:\n",
    "            plt.xlabel('Alpha')\n",
    "            l=alphas\n",
    "            bl=best_alpha\n",
    "        plt.plot(l,R_2_OS,'b',label=model_label)\n",
    "        plt.legend(loc='upper right')\n",
    "        plt.ylabel('R-squared')\n",
    "        plt.axvline(bl,color='r',linestyle='--')\n",
    "\n",
    "        plt.show()\n",
    "    \n",
    "    return best_alpha\n",
    "\n",
    "# Define predictors\n",
    "lis_predictors=['x', 'x2', 'x3', 'x4', 'x5', 'x6', 'x7', 'x8', 'x9', 'x10']\n",
    "\n",
    "# Define list of alphas\n",
    "alphas=np.exp(np.linspace(-10,5,200))\n",
    "\n",
    "# Find optimal alpha\n",
    "alpha_l_optimal=Regularization_fit_alpha(data1[lis_predictors],data1['y'],data1_2[lis_predictors],data1_2['y'],alphas,p=0.4,Graph=True,logl=True)\n",
    "print('Optimal alpha for Lasso={0}'.format(alpha_l_optimal))"
   ]
  },
  {
   "cell_type": "code",
   "execution_count": 8,
   "metadata": {
    "collapsed": false
   },
   "outputs": [
    {
     "name": "stdout",
     "output_type": "stream",
     "text": [
      "The R-squared we found for test Lasso is: 0.997315058957675\n"
     ]
    }
   ],
   "source": [
    "#report test R2\n",
    "\n",
    "Lasso=linear_model.Lasso(fit_intercept=True,alpha=alpha_l_optimal)\n",
    "Lasso.fit(data1[lis_predictors].append(data1_2[lis_predictors]),data1['y'].append(data1_2['y']))\n",
    "p=Lasso.predict(data1_3[lis_predictors])\n",
    "err=p-data1_3['y']\n",
    "R_2_Lasso=1-np.var(err)/np.var(data1_3['y'])\n",
    "print(\"The R-squared we found for test Lasso is: {0}\".format(R_2_Lasso))\n"
   ]
  },
  {
   "cell_type": "code",
   "execution_count": 9,
   "metadata": {
    "collapsed": false
   },
   "outputs": [
    {
     "name": "stdout",
     "output_type": "stream",
     "text": [
      "Lasso Coefficients [ 0.23308403  0.28095947  0.44738912  0.54727436  0.          0.01819468\n",
      "  0.          0.          0.          0.        ]\n"
     ]
    },
    {
     "data": {
      "image/png": "[encoded data removed]",
      "text/plain": [
       "<matplotlib.figure.Figure at 0x14b1a64c780>"
      ]
     },
     "metadata": {},
     "output_type": "display_data"
    }
   ],
   "source": [
    "#visualize the model against all the data from training, validation and test samples\n",
    "data=pd.DataFrame()\n",
    "data=data.append(data1)\n",
    "data=data.append(data1_2)\n",
    "data=data.append(data1_3)\n",
    "    \n",
    "data['y_pred']=Lasso.predict(data[lis_predictors])\n",
    "\n",
    "#data['x_original']=(data['x']*df_standard.loc[df_standard['Col']=='x','Std'][0])+df_standard.loc[df_standard['Col']=='x','Mean'][0]\n",
    "#data['y_original']=(data['y']*df_standard.loc[df_standard['Col']=='y','Std'][0])+df_standard.loc[df_standard['Col']=='y','Mean'][0]\n",
    "#data['y_pred_original']=(data['y_pred']*df_standard.loc[df_standard['Col']=='y','Std'][0])+df_standard.loc[df_standard['Col']=='y','Mean'][0]\n",
    "\n",
    "#visualize the fit\n",
    "#plt.plot(data.x_original,data.y_original,'.r') #plot the data\n",
    "#plt.plot(data.x_original,data.y_pred_original,'b') #plot the regression\n",
    "plt.plot(data.x,data.y,'.r') #plot the data\n",
    "plt.plot(data.x,data.y_pred,'b') #plot the regression\n",
    "\n",
    "plt.legend(loc='lower right')\n",
    "#plt.ylim(700,2000)\n",
    "plt.xlabel('x')\n",
    "plt.ylabel('y')\n",
    "\n",
    "print('Lasso Coefficients', Lasso.coef_)\n"
   ]
  }
 ],
 "metadata": {
  "anaconda-cloud": {},
  "kernelspec": {
   "display_name": "Python [default]",
   "language": "python",
   "name": "python3"
  },
  "language_info": {
   "codemirror_mode": {
    "name": "ipython",
    "version": 3
   },
   "file_extension": ".py",
   "mimetype": "text/x-python",
   "name": "python",
   "nbconvert_exporter": "python",
   "pygments_lexer": "ipython3",
   "version": "3.5.2"
  }
 },
 "nbformat": 4,
 "nbformat_minor": 2
}
