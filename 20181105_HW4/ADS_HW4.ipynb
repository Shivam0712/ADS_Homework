{
 "cells": [
  {
   "cell_type": "markdown",
   "metadata": {},
   "source": [
    "# ADS Homework 4\n",
    "Wednesday Session, Proffessor Stanislav Sobolevsky\n",
    "\n",
    "Please submit this assignment to the NYU Classes 'Assignments' section by labeling the assignments with the format **'FULL_NAME - ADS_HW4.ipynb'**. \n",
    "\n",
    "This homework is here for you to better understand and practice the material; while you may discuss approaches to problems with your classmates (in fact, this is encouraged!), please ensure that all final code submitted is your own. You may reach out to the TAs or Professor Sobolevsky via email or during office hours, in case you have any questions or have some difficulties following the class material."
   ]
  },
  {
   "cell_type": "markdown",
   "metadata": {},
   "source": [
    "## Problem 1 - Return on University Education (20 points)"
   ]
  },
  {
   "cell_type": "markdown",
   "metadata": {},
   "source": [
    "Please read the following article: https://promarket.org/learning-university-pay-off/\n",
    "\n",
    "Consider Judea Pearl's idea of the ladder of causality that was discussed in class.  Describe whether or not the study described in the article meets the standard of (a) association; (b) intervention; and (c) counterfactual."
   ]
  },
  {
   "cell_type": "markdown",
   "metadata": {},
   "source": [
    "**(a)** Association: The Article meets the standard of Association.\n",
    "\n",
    "In the article it is mentioned that\n",
    "\n",
    "*\"college graduates on average, earned 76 percent more than high school grads\"*,\n",
    "\n",
    "which shows the association of college education with average wage. Also, it is mentioned that\n",
    "\n",
    "*\"the median annual earnings for an Ivy League graduate 10 years after starting amounted to well over \\$ 70,000 a year. For graduates of all other schools, the median was around \\$34,000 \"*,\n",
    "\n",
    "which shows the association of median income with type of school. "
   ]
  },
  {
   "cell_type": "markdown",
   "metadata": {},
   "source": [
    "**(b)** Intervention: The Article meets standard of Interevention.\n",
    "\n",
    "To test the validity of the two effects:\n",
    "\n",
    "    1. \"On one side, the human capital theory argues that education increases productivity and wages rise as a result (Becker, 1962; Mincer, 1974). So basically when you go to school you learn useful skills that are later rewarded in the labor market.\"\n",
    "    \n",
    "    2. \"On the other side, the signaling theory posits that higher wages reflect the correlation between education and ability (Spence, 1973). Or in other words, that the smartest students are the ones who are accepted in college, and the ones that graduate from the most selective schools. They are paid more because they are smarter, and a college degree is an easy way to check that. But it is not the case that they learn anything substantially different from those students that attend less prestigious schools, or even those who don’t go to school at all.\"\n",
    "    \n",
    "In the article it is mentioned that interevntion was made and curriculum was reformed at the top school in Colombia: Los Andes University. In 2006 the Economics and Business Departments reduced the number of classes required to earn a degree, but the admissions criteria remained the same throughout this reform.\n"
   ]
  },
  {
   "cell_type": "markdown",
   "metadata": {},
   "source": [
    "**(c)** Counterfactual: The article meets standards of counterfactual.\n",
    "\n",
    "To ensure that the reform did not change quality of students.\n",
    "\n",
    "It was checked that the average entrance test scores did not decrease, nor did the size of the entering class grow, and dropout rates did not change with the reduction in the number of classes.\n",
    "\n",
    "As results, there was no effective change in the quality of students graduating after the curriculum change.\n",
    "\n",
    "Now, to check what happened in the labor market.\n",
    "\n",
    "The wages of graduates before and after the reform was compared to wages of students from other schools, in which the curriculum remained the same(Countefactual).\n",
    "\n",
    "It was found that after the reform, wages for students from Los Andes decreased by 16 percent in economics and 13 percent in business.\n",
    "\n",
    "This suggests that human capital accumulation plays an important role in the determination of wages, and we can rule out that signaling is the only role of college education. Basically, employers do find the classes we take in school valuable and pay students for that.\n"
   ]
  },
  {
   "cell_type": "markdown",
   "metadata": {},
   "source": [
    "## Problem 2 - Markov Processes (40 points)"
   ]
  },
  {
   "cell_type": "markdown",
   "metadata": {},
   "source": [
    "### Part 1 - Markov Chain Lab (20 points)\n",
    "\n",
    "* Consider the subway rat problem discussed in class.  \n",
    "* Add two tracks to the right of Track C, labeling them Track D and Track E.  \n",
    "* In this situation, treat Track A as an absorbing state.  \n",
    "* If the rat is on any track other than Tracks A or E, it has probability 0.5 of remaining on that track, probability 0.25 of moving left, and probability 0.25 of moving right.  \n",
    "* For Track E, assume probability 0.5 of remaining on that track, and probability 0.5 of moving left.  \n",
    "\n",
    "* Write out the matrix of Markov transition probabilities.  Iterate this matrix forward as many times as is necessary for you to determine empirically its limit.  Based on this limit, what can you say about the evolution of the system if the rat begins on Track C?  How about Track D?  Is there a general conclusion you can draw?"
   ]
  },
  {
   "cell_type": "code",
   "execution_count": 6,
   "metadata": {
    "collapsed": true
   },
   "outputs": [],
   "source": [
    "# If on Track A, Pr(stays) = 1/2 and Pr(moves to B) = 1/2\n",
    "# If on Track B, Pr(stays) = 1/2, Pr(move to A) = 1/4, and Pr(moves to C) = 1/4\n",
    "# If on Track C, Pr(stays) = 1/2, Pr(move to B) = 1/4, and Pr(moves to D) = 1/4\n",
    "# If on Track D, Pr(stays) = 1/2, Pr(move to C) = 1/4, and Pr(moves to E) = 1/4\n",
    "# If on Track E, Pr(stays) = 1/2 and Pr(moves to D) = 1/2 "
   ]
  },
  {
   "cell_type": "code",
   "execution_count": 55,
   "metadata": {
    "collapsed": false
   },
   "outputs": [
    {
     "name": "stdout",
     "output_type": "stream",
     "text": [
      "Populating the interactive namespace from numpy and matplotlib\n"
     ]
    },
    {
     "name": "stderr",
     "output_type": "stream",
     "text": [
      "C:\\Program Files\\Anaconda3\\lib\\site-packages\\IPython\\core\\magics\\pylab.py:161: UserWarning: pylab import has clobbered these variables: ['plt', 'table']\n",
      "`%matplotlib` prevents importing * from pylab and numpy\n",
      "  \"\\n`%matplotlib` prevents importing * from pylab and numpy\"\n"
     ]
    }
   ],
   "source": [
    "import numpy as np\n",
    "import pandas as pd\n",
    "import matplotlib.pylab as plt\n",
    "\n",
    "% pylab inline\n",
    "#from tabulate import tabulate"
   ]
  },
  {
   "cell_type": "code",
   "execution_count": 41,
   "metadata": {
    "collapsed": false
   },
   "outputs": [
    {
     "name": "stdout",
     "output_type": "stream",
     "text": [
      "A Rat in a NYC Subway Tunnel \n",
      "\n",
      "Without absorbing state\n",
      " \n",
      "As an Numpy matrix: \n",
      "\n",
      "[[ 0.5   0.5   0.    0.    0.  ]\n",
      " [ 0.25  0.5   0.25  0.    0.  ]\n",
      " [ 0.    0.25  0.5   0.25  0.  ]\n",
      " [ 0.    0.    0.25  0.5   0.25]\n",
      " [ 0.    0.    0.    0.5   0.5 ]] \n",
      "\n"
     ]
    }
   ],
   "source": [
    "print(\"A Rat in a NYC Subway Tunnel \\n\")\n",
    "print(\"Without absorbing state\\n \")\n",
    "# Markov Matrix\n",
    "#print(\" Since A is absorbing state, Rat once on Track A cannot escape the state.\")\n",
    "#print(\" Thus. If on Track A, Pr(stays) = 1 and Pr(moves to B) = 0 \\n\")\n",
    "\n",
    "mat_MT = np.matrix('0.5 0.5 0 0 0; 0.25 0.5 0.25 0 0; 0 0.25 0.5 0.25 0; 0 0 0.25 0.5 0.25; 0 0 0 0.5 0.5')\n",
    "print(\"As an Numpy matrix: \\n\")\n",
    "print(mat_MT,'\\n')\n"
   ]
  },
  {
   "cell_type": "code",
   "execution_count": 72,
   "metadata": {
    "collapsed": false
   },
   "outputs": [
    {
     "name": "stdout",
     "output_type": "stream",
     "text": [
      "Probability rat in on Track A, B, C, D and E at time t + 1000\n",
      "[[ 0.125  0.25   0.25   0.25   0.125]]\n"
     ]
    }
   ],
   "source": [
    "# Starting the Rat at Track C\n",
    "rat = np.matrix('0 0 1 0 0')\n",
    "\n",
    "i=1000\n",
    "print('Probability rat in on Track A, B, C, D and E at time t + %i' % (i))\n",
    "print(rat * np.linalg.matrix_power(mat_MT, i))"
   ]
  },
  {
   "cell_type": "code",
   "execution_count": 74,
   "metadata": {
    "collapsed": false,
    "scrolled": false
   },
   "outputs": [
    {
     "name": "stdout",
     "output_type": "stream",
     "text": [
      "Probability rat in on Track A, B, C, D and E at time t + 1000\n",
      "[[ 0.125  0.25   0.25   0.25   0.125]]\n"
     ]
    }
   ],
   "source": [
    "# Starting the Rat at Track D\n",
    "rat = np.matrix('0 0 0 1 0')\n",
    "\n",
    "i=1000\n",
    "print('Probability rat in on Track A, B, C, D and E at time t + %i' % (i))\n",
    "print(rat * np.linalg.matrix_power(mat_MT, i))"
   ]
  },
  {
   "cell_type": "markdown",
   "metadata": {},
   "source": [
    "Write out the matrix of Markov transition probabilities. Iterate this matrix forward as many times as is necessary for you to determine empirically its limit. Based on this limit, what can you say about the evolution of the system if the rat begins on Track C? How about Track D? Is there a general conclusion you can draw?\n",
    "\n",
    "After a large number of cycle(1000 in our case) the probabaility of mouse being on a particular track irrespective of wherever is started saturates to the given empirical probability which in our case is [[ 0.125  0.25   0.25   0.25   0.125]] for Track A,B,C,D and E respectively."
   ]
  },
  {
   "cell_type": "code",
   "execution_count": 75,
   "metadata": {
    "collapsed": false
   },
   "outputs": [
    {
     "name": "stdout",
     "output_type": "stream",
     "text": [
      "A Rat in a NYC Subway Tunnel \n",
      "\n",
      "With absorbing state\n",
      " \n",
      " Since A is absorbing state, Rat once on Track A cannot escape the state.\n",
      " Thus. If on Track A, Pr(stays) = 1 and Pr(moves to B) = 0 \n",
      "\n",
      "As an Numpy matrix: \n",
      "\n",
      "[[ 1.    0.    0.    0.    0.  ]\n",
      " [ 0.25  0.5   0.25  0.    0.  ]\n",
      " [ 0.    0.25  0.5   0.25  0.  ]\n",
      " [ 0.    0.    0.25  0.5   0.25]\n",
      " [ 0.    0.    0.    0.5   0.5 ]] \n",
      "\n"
     ]
    }
   ],
   "source": [
    "print(\"A Rat in a NYC Subway Tunnel \\n\")\n",
    "print(\"With absorbing state\\n \")\n",
    "# Markov Matrix\n",
    "print(\" Since A is absorbing state, Rat once on Track A cannot escape the state.\")\n",
    "print(\" Thus. If on Track A, Pr(stays) = 1 and Pr(moves to B) = 0 \\n\")\n",
    "\n",
    "mat_MT = np.matrix('1 0 0 0 0; 0.25 0.5 0.25 0 0; 0 0.25 0.5 0.25 0; 0 0 0.25 0.5 0.25; 0 0 0 0.5 0.5')\n",
    "print(\"As an Numpy matrix: \\n\")\n",
    "print(mat_MT,'\\n')\n"
   ]
  },
  {
   "cell_type": "code",
   "execution_count": 88,
   "metadata": {
    "collapsed": false
   },
   "outputs": [
    {
     "name": "stdout",
     "output_type": "stream",
     "text": [
      "Probability rat in on Track A, B, C, D and E at time t + 125\n",
      "[[ 0.99304579  0.00105872  0.00195625  0.00255597  0.00138328]]\n"
     ]
    }
   ],
   "source": [
    "# Starting the Rat at Track C\n",
    "rat = np.matrix('0 0 1 0 0')\n",
    "\n",
    "i=125\n",
    "print('Probability rat in on Track A, B, C, D and E at time t + %i' % (i))\n",
    "print(rat * np.linalg.matrix_power(mat_MT, i))"
   ]
  },
  {
   "cell_type": "code",
   "execution_count": 87,
   "metadata": {
    "collapsed": false,
    "scrolled": false
   },
   "outputs": [
    {
     "name": "stdout",
     "output_type": "stream",
     "text": [
      "Probability rat in on Track A, B, C, D and E at time t + 125\n",
      "[[ 0.99091388  0.00138328  0.00255597  0.00333953  0.00180734]]\n"
     ]
    }
   ],
   "source": [
    "# Starting the Rat at Track D\n",
    "rat = np.matrix('0 0 0 1 0')\n",
    "\n",
    "i=125\n",
    "print('Probability rat in on Track A, B, C, D and E at time t + %i' % (i))\n",
    "print(rat * np.linalg.matrix_power(mat_MT, i))"
   ]
  },
  {
   "cell_type": "markdown",
   "metadata": {},
   "source": [
    "In presence of absorbtion state, after a large number of cycle(125 in our case) the probabaility of mouse being on any particular track other than the absorbtion state irrespective of wherever it started saturates down to 0.\n",
    "\n",
    "In our case A is absorbtion state thus, after a large number of cycle the probability of mouse being on track A surges to 1 irrespective of wherever the mouse started."
   ]
  },
  {
   "cell_type": "markdown",
   "metadata": {},
   "source": [
    "### Part 2 - Real-world example (20 points)\n",
    "\n",
    "Similar to the example of a rat moving between subway tracks, let's dig into an example of people moving throughout a subset of 5 Brooklyn Neighborhoods to understand Markov Processes. \n",
    "<br><br>\n",
    "Assumptions made here are that total population is static (i.e. no new entrants or people moving outside of this subset of neighborhoods), and that there's a 40% chance that people stay in their current neighborhood (which can be interpreted as either not moving or moving very close by) and a known probability of moving from one neighborhood to another (these are defined in the code below), with preference shown for bordering neighborhoods. \n",
    "<br><br>\n",
    "We will load geo-data and filter to the specified Brooklyn neighborhoods. We will then examine movement between neighborhoods as a Markov Process, iterating until an equilibrium becomes apparent (hint: you should not see any absorbing states in this example), then visualize and interpret the results."
   ]
  },
  {
   "cell_type": "markdown",
   "metadata": {},
   "source": [
    "**a)**: Go through the below example, completing the code where marked. In the end, your dataframe should look similar to the output. (15 points)"
   ]
  },
  {
   "cell_type": "code",
   "execution_count": 108,
   "metadata": {
    "collapsed": false
   },
   "outputs": [
    {
     "name": "stderr",
     "output_type": "stream",
     "text": [
      "WARNING:Fiona:GDAL data files not located, GDAL_DATA not set\n",
      "WARNING:Fiona:PROJ data files not located, PROJ_LIB not set\n"
     ]
    },
    {
     "data": {
      "text/html": [
       "<div>\n",
       "<table border=\"1\" class=\"dataframe\">\n",
       "  <thead>\n",
       "    <tr style=\"text-align: right;\">\n",
       "      <th></th>\n",
       "      <th>State</th>\n",
       "      <th>County</th>\n",
       "      <th>City</th>\n",
       "      <th>Name</th>\n",
       "      <th>RegionID</th>\n",
       "      <th>geometry</th>\n",
       "      <th>coords</th>\n",
       "    </tr>\n",
       "  </thead>\n",
       "  <tbody>\n",
       "    <tr>\n",
       "      <th>0</th>\n",
       "      <td>NY</td>\n",
       "      <td>Kings</td>\n",
       "      <td>New York</td>\n",
       "      <td>Boerum Hill</td>\n",
       "      <td>272994</td>\n",
       "      <td>POLYGON ((-73.98682489707035 40.68846655576456...</td>\n",
       "      <td>(-73.9864896425407, 40.68600290969882)</td>\n",
       "    </tr>\n",
       "    <tr>\n",
       "      <th>1</th>\n",
       "      <td>NY</td>\n",
       "      <td>Kings</td>\n",
       "      <td>New York</td>\n",
       "      <td>Clinton Hill</td>\n",
       "      <td>270815</td>\n",
       "      <td>POLYGON ((-73.9619257224787 40.69778778197278,...</td>\n",
       "      <td>(-73.96455445229091, 40.689058350724)</td>\n",
       "    </tr>\n",
       "    <tr>\n",
       "      <th>2</th>\n",
       "      <td>NY</td>\n",
       "      <td>Kings</td>\n",
       "      <td>New York</td>\n",
       "      <td>DUMBO</td>\n",
       "      <td>270841</td>\n",
       "      <td>POLYGON ((-73.98446723099994 40.70646091900005...</td>\n",
       "      <td>(-73.99003960915954, 40.703545669500045)</td>\n",
       "    </tr>\n",
       "    <tr>\n",
       "      <th>3</th>\n",
       "      <td>NY</td>\n",
       "      <td>Kings</td>\n",
       "      <td>New York</td>\n",
       "      <td>Downtown</td>\n",
       "      <td>270825</td>\n",
       "      <td>POLYGON ((-73.98697203810939 40.70105040762233...</td>\n",
       "      <td>(-73.98678098579373, 40.693458468711725)</td>\n",
       "    </tr>\n",
       "    <tr>\n",
       "      <th>4</th>\n",
       "      <td>NY</td>\n",
       "      <td>Kings</td>\n",
       "      <td>New York</td>\n",
       "      <td>Fort Greene</td>\n",
       "      <td>273766</td>\n",
       "      <td>POLYGON ((-73.98230754099966 40.70227250100029...</td>\n",
       "      <td>(-73.97573066517539, 40.69136863239475)</td>\n",
       "    </tr>\n",
       "  </tbody>\n",
       "</table>\n",
       "</div>"
      ],
      "text/plain": [
       "  State County      City          Name RegionID  \\\n",
       "0    NY  Kings  New York   Boerum Hill   272994   \n",
       "1    NY  Kings  New York  Clinton Hill   270815   \n",
       "2    NY  Kings  New York         DUMBO   270841   \n",
       "3    NY  Kings  New York      Downtown   270825   \n",
       "4    NY  Kings  New York   Fort Greene   273766   \n",
       "\n",
       "                                            geometry  \\\n",
       "0  POLYGON ((-73.98682489707035 40.68846655576456...   \n",
       "1  POLYGON ((-73.9619257224787 40.69778778197278,...   \n",
       "2  POLYGON ((-73.98446723099994 40.70646091900005...   \n",
       "3  POLYGON ((-73.98697203810939 40.70105040762233...   \n",
       "4  POLYGON ((-73.98230754099966 40.70227250100029...   \n",
       "\n",
       "                                     coords  \n",
       "0    (-73.9864896425407, 40.68600290969882)  \n",
       "1     (-73.96455445229091, 40.689058350724)  \n",
       "2  (-73.99003960915954, 40.703545669500045)  \n",
       "3  (-73.98678098579373, 40.693458468711725)  \n",
       "4   (-73.97573066517539, 40.69136863239475)  "
      ]
     },
     "execution_count": 108,
     "metadata": {},
     "output_type": "execute_result"
    }
   ],
   "source": [
    "#import imageio\n",
    "import geopandas as gpd\n",
    "import numpy as np\n",
    "import matplotlib.pyplot as plt\n",
    "import pandas as pd\n",
    "import seaborn as sns \n",
    "import time\n",
    "from IPython.display import HTML\n",
    "\n",
    "sns.set_style('white')\n",
    "# filters to apply to the data\n",
    "county = 'Kings'\n",
    "hoods  = ['Downtown', 'DUMBO', 'Fort Greene', 'Boerum Hill', 'Clinton Hill']\n",
    "\n",
    "def get_neighborhoods(file, county=county, neighborhoods=hoods):\n",
    "    '''\n",
    "    reads in geopandas file from Zillow, returns geodataframe with specified neighborhoods\n",
    "    '''\n",
    "    # read in the geodata file ('file') and consolidate to the 5 selected neighborhoods (listed above)\n",
    "    ny_gdf = gpd.read_file(file)\n",
    "    ny_gdf = ny_gdf.loc[ny_gdf['County']==county,:]\n",
    "    ny_gdf['Present'] = ny_gdf['Name'].apply(lambda x: x in hoods)\n",
    "    ny_gdf = ny_gdf.loc[ny_gdf['Present']== True,:]\n",
    "    del ny_gdf['Present']\n",
    "    \n",
    "    # locate coordinate points to plot neighborhood names\n",
    "    ny_gdf['coords'] = ny_gdf['geometry'].apply(lambda x: x.representative_point().coords[:])\n",
    "    ny_gdf['coords'] = [coords[0] for coords in ny_gdf['coords']]\n",
    "    return ny_gdf\n",
    "\n",
    "bk_neighborhoods = get_neighborhoods('ZillowNeighborhoodsNY.shp')\n",
    "bk_neighborhoods = bk_neighborhoods.sort_values('Name').reset_index(drop=True)\n",
    "bk_neighborhoods"
   ]
  },
  {
   "cell_type": "markdown",
   "metadata": {},
   "source": [
    "Above we can see the geodataframe. Now let's plot it: "
   ]
  },
  {
   "cell_type": "code",
   "execution_count": 109,
   "metadata": {
    "collapsed": false
   },
   "outputs": [
    {
     "data": {
      "image/png": "[encoded data removed]",
      "text/plain": [
       "<matplotlib.figure.Figure at 0x287fd966b00>"
      ]
     },
     "metadata": {},
     "output_type": "display_data"
    }
   ],
   "source": [
    "bk_neighborhoods.plot(figsize=(8, 6), edgecolor='black', alpha=0.2)\n",
    "\n",
    "for idx, row in bk_neighborhoods.iterrows():\n",
    "    plt.annotate(s=row['Name'], xy=row['coords'], color='Black', horizontalalignment='center', size=10)"
   ]
  },
  {
   "cell_type": "markdown",
   "metadata": {},
   "source": [
    "Here, we define the likelihoods of moving from one neighborhood to another.\n",
    "Use a Dirichlet Distrobution (convenient for generating samples that sum to 1.0) to obtain an initial starting population for the neighborhoods https://docs.scipy.org/doc/numpy-1.13.0/reference/generated/numpy.random.dirichlet.html"
   ]
  },
  {
   "cell_type": "code",
   "execution_count": 126,
   "metadata": {
    "collapsed": false
   },
   "outputs": [
    {
     "data": {
      "text/plain": [
       "matrix([[ 0.37744127,  0.05991806,  0.13780201,  0.18197713,  0.24286153]])"
      ]
     },
     "execution_count": 126,
     "metadata": {},
     "output_type": "execute_result"
    }
   ],
   "source": [
    "np.matrix(np.random.dirichlet((1,1,1,1,1)))"
   ]
  },
  {
   "cell_type": "code",
   "execution_count": 127,
   "metadata": {
    "collapsed": false
   },
   "outputs": [
    {
     "name": "stdout",
     "output_type": "stream",
     "text": [
      "Initial allocations:\n",
      "--------------------\n",
      "Boerum Hill    7.98%\n",
      "Clinton Hill  51.20%\n",
      "DUMBO         22.40%\n",
      "Downtown      15.53%\n",
      "Fort Greene    2.89%\n",
      "--------------------\n",
      "\n"
     ]
    },
    {
     "data": {
      "text/html": [
       "<div>\n",
       "<table border=\"1\" class=\"dataframe\">\n",
       "  <thead>\n",
       "    <tr style=\"text-align: right;\">\n",
       "      <th>Name</th>\n",
       "      <th>Boerum Hill</th>\n",
       "      <th>Clinton Hill</th>\n",
       "      <th>DUMBO</th>\n",
       "      <th>Downtown</th>\n",
       "      <th>Fort Greene</th>\n",
       "    </tr>\n",
       "    <tr>\n",
       "      <th>Name</th>\n",
       "      <th></th>\n",
       "      <th></th>\n",
       "      <th></th>\n",
       "      <th></th>\n",
       "      <th></th>\n",
       "    </tr>\n",
       "  </thead>\n",
       "  <tbody>\n",
       "    <tr>\n",
       "      <th>Boerum Hill</th>\n",
       "      <td>0.40</td>\n",
       "      <td>0.10</td>\n",
       "      <td>0.10</td>\n",
       "      <td>0.20</td>\n",
       "      <td>0.20</td>\n",
       "    </tr>\n",
       "    <tr>\n",
       "      <th>Clinton Hill</th>\n",
       "      <td>0.10</td>\n",
       "      <td>0.40</td>\n",
       "      <td>0.10</td>\n",
       "      <td>0.15</td>\n",
       "      <td>0.25</td>\n",
       "    </tr>\n",
       "    <tr>\n",
       "      <th>DUMBO</th>\n",
       "      <td>0.10</td>\n",
       "      <td>0.10</td>\n",
       "      <td>0.40</td>\n",
       "      <td>0.20</td>\n",
       "      <td>0.20</td>\n",
       "    </tr>\n",
       "    <tr>\n",
       "      <th>Downtown</th>\n",
       "      <td>0.20</td>\n",
       "      <td>0.05</td>\n",
       "      <td>0.15</td>\n",
       "      <td>0.40</td>\n",
       "      <td>0.20</td>\n",
       "    </tr>\n",
       "    <tr>\n",
       "      <th>Fort Greene</th>\n",
       "      <td>0.15</td>\n",
       "      <td>0.20</td>\n",
       "      <td>0.05</td>\n",
       "      <td>0.20</td>\n",
       "      <td>0.40</td>\n",
       "    </tr>\n",
       "  </tbody>\n",
       "</table>\n",
       "</div>"
      ],
      "text/plain": [
       "Name          Boerum Hill  Clinton Hill  DUMBO  Downtown  Fort Greene\n",
       "Name                                                                 \n",
       "Boerum Hill          0.40          0.10   0.10      0.20         0.20\n",
       "Clinton Hill         0.10          0.40   0.10      0.15         0.25\n",
       "DUMBO                0.10          0.10   0.40      0.20         0.20\n",
       "Downtown             0.20          0.05   0.15      0.40         0.20\n",
       "Fort Greene          0.15          0.20   0.05      0.20         0.40"
      ]
     },
     "execution_count": 127,
     "metadata": {},
     "output_type": "execute_result"
    }
   ],
   "source": [
    "np.random.seed(42)\n",
    "data = np.matrix(np.random.dirichlet((1,1,1,1,1))) # use a dirichlet distribution to create a 1-by-5 matrix of values that sum to 1.0 \n",
    "initial_vals = zip(list(bk_neighborhoods.Name), np.array(data)[0])\n",
    "\n",
    "print('Initial allocations:')\n",
    "print('--------------------')\n",
    "for i, j in initial_vals:\n",
    "    print('{:<13s} {:>5.2f}%'.format(i, round(j, 4)*100))\n",
    "print('--------------------')\n",
    "print()\n",
    "\n",
    "move_likelihoods = np.matrix('0.4 0.1 0.1 0.2 0.2; 0.1 0.4 0.1 0.15 0.25; 0.1 0.1 0.4 0.2 0.2;' \n",
    "                             + '0.2 0.05 0.15 0.4 0.2; 0.15 0.2 0.05 0.2 0.4')\n",
    "pd.DataFrame(data=move_likelihoods, index=bk_neighborhoods.Name, columns=bk_neighborhoods.Name) \n",
    "# we could use 'tabulate' here, as this is for visualization purposes, but a pd dataframe is \n",
    "# often just as clear and has more compatability with python environments"
   ]
  },
  {
   "cell_type": "markdown",
   "metadata": {},
   "source": [
    "Here we will build a Markov process and visualize it in a GIF; this is useful for seeing equilibrium state reached over time. We will then look at the numbers to confirm what the plot is showing us. "
   ]
  },
  {
   "cell_type": "code",
   "execution_count": 128,
   "metadata": {
    "collapsed": false,
    "scrolled": false
   },
   "outputs": [
    {
     "ename": "SyntaxError",
     "evalue": "invalid syntax (<ipython-input-128-4586105d9c37>, line 6)",
     "output_type": "error",
     "traceback": [
      "\u001b[0;36m  File \u001b[0;32m\"<ipython-input-128-4586105d9c37>\"\u001b[0;36m, line \u001b[0;32m6\u001b[0m\n\u001b[0;31m    pct_in_hood = #####your code here##### # use the matrix_power function to run a step in the markov process\u001b[0m\n\u001b[0m                                                                                                              ^\u001b[0m\n\u001b[0;31mSyntaxError\u001b[0m\u001b[0;31m:\u001b[0m invalid syntax\n"
     ]
    }
   ],
   "source": [
    "years = 7\n",
    "pct_by_year = []\n",
    "\n",
    "def plot_neighborhood_movement(years):\n",
    "\n",
    "    pct_in_hood = #####your code here##### # use the matrix_power function to run a step in the markov process\n",
    "    bk_neighborhoods['pct_in_hood'] = np.array(pct_in_hood)[0]\n",
    "    pct_by_year.append(np.array(pct_in_hood)[0])\n",
    "    vmin, vmax = bk_neighborhoods['pct_in_hood'].min(), bk_neighborhoods['pct_in_hood'].max()\n",
    "\n",
    "    fig, ax = plt.subplots(figsize=(8,6))\n",
    "    base = bk_neighborhoods.plot(ax=ax, column='pct_in_hood', edgecolor='grey', \n",
    "                                cmap='Blues', vmin=vmin, vmax=vmax, legend=False)\n",
    "\n",
    "    plt.title('Year:{}'.format(years), size=16)\n",
    "    \n",
    "    for idx, row in bk_neighborhoods.iterrows():\n",
    "        #####your code here##### # put neighborhood names on the plot in red font\n",
    "\n",
    "    fig.canvas.draw()\n",
    "    image = np.frombuffer(fig.canvas.tostring_rgb(), dtype='uint8')\n",
    "    image = image.reshape(fig.canvas.get_width_height()[::-1] + (3,))\n",
    "    plt.close(fig)\n",
    "    return image\n",
    "\n",
    "kwargs_write = {'fps':1.0, 'quantizer':'nq'}\n",
    "imageio.mimsave('neighborhood_movement.gif', [plot_neighborhood_movement(year) for year in range(years)], fps=1)\n",
    "\n",
    "HTML('<img src=\"neighborhood_movement.gif\">')"
   ]
  },
  {
   "cell_type": "markdown",
   "metadata": {},
   "source": [
    "**b)**: Interpret the results - what trends do we notice towards the end of the GIF? Why might this be? What would we expect if we ran this over 100 iterations (feel free to try this)? (5 points)"
   ]
  },
  {
   "cell_type": "markdown",
   "metadata": {},
   "source": [
    "(your answer here)"
   ]
  },
  {
   "cell_type": "markdown",
   "metadata": {},
   "source": [
    "This is some pretty cool stuff! If you had enough data, you could theoretically do this for all of NYC (you'd additionally have to factor in people moving into and out of the city, but that's not too hard). Further, you might change the percentages over time (e.g. when the L-train shuts down, you may want to lower the % of people moving to Williamsburg in your model). "
   ]
  },
  {
   "cell_type": "markdown",
   "metadata": {},
   "source": [
    "## Problem 3 - Time Series (40 points)"
   ]
  },
  {
   "cell_type": "markdown",
   "metadata": {},
   "source": [
    "This dataset looks at measurements of electric power consumption in one household with a one-minute sampling rate over a period of almost 4 years; the data is initially messy, and will take a lot of cleaning. You will find that there is some correlation between the data (i.e. what we know about the current state can tell us something about the future state), and you will then construct an Autoregressive Model to predict future values.\n",
    "\n",
    "Source: https://archive.ics.uci.edu/ml/datasets/individual+household+electric+power+consumption\n",
    "\n",
    "Variable Descriptions:\n",
    "1. date: Date in format dd/mm/yyyy <br> \n",
    "2. time: time in format hh:mm:ss <br>\n",
    "3. global_active_power: household global minute-averaged active power (in kilowatt) <br>\n",
    "4. global_reactive_power: household global minute-averaged reactive power (in kilowatt) <br>"
   ]
  },
  {
   "cell_type": "code",
   "execution_count": 129,
   "metadata": {
    "collapsed": false
   },
   "outputs": [
    {
     "ename": "ImportError",
     "evalue": "No module named 'pandas.plotting'",
     "output_type": "error",
     "traceback": [
      "\u001b[0;31m---------------------------------------------------------------------------\u001b[0m",
      "\u001b[0;31mImportError\u001b[0m                               Traceback (most recent call last)",
      "\u001b[0;32m<ipython-input-129-349da53a66f8>\u001b[0m in \u001b[0;36m<module>\u001b[0;34m()\u001b[0m\n\u001b[0;32m----> 1\u001b[0;31m \u001b[1;32mfrom\u001b[0m \u001b[0mpandas\u001b[0m\u001b[1;33m.\u001b[0m\u001b[0mplotting\u001b[0m \u001b[1;32mimport\u001b[0m \u001b[0mlag_plot\u001b[0m\u001b[1;33m\u001b[0m\u001b[0m\n\u001b[0m\u001b[1;32m      2\u001b[0m \u001b[1;32mfrom\u001b[0m \u001b[0mpandas\u001b[0m\u001b[1;33m.\u001b[0m\u001b[0mplotting\u001b[0m \u001b[1;32mimport\u001b[0m \u001b[0mautocorrelation_plot\u001b[0m\u001b[1;33m\u001b[0m\u001b[0m\n\u001b[1;32m      3\u001b[0m \u001b[1;32mfrom\u001b[0m \u001b[0msklearn\u001b[0m\u001b[1;33m.\u001b[0m\u001b[0mmetrics\u001b[0m \u001b[1;32mimport\u001b[0m \u001b[0mmean_squared_error\u001b[0m\u001b[1;33m\u001b[0m\u001b[0m\n\u001b[1;32m      4\u001b[0m \u001b[1;32mfrom\u001b[0m \u001b[0mstatsmodels\u001b[0m\u001b[1;33m.\u001b[0m\u001b[0mgraphics\u001b[0m\u001b[1;33m.\u001b[0m\u001b[0mtsaplots\u001b[0m \u001b[1;32mimport\u001b[0m \u001b[0mplot_acf\u001b[0m\u001b[1;33m\u001b[0m\u001b[0m\n\u001b[1;32m      5\u001b[0m \u001b[1;32mfrom\u001b[0m \u001b[0mstatsmodels\u001b[0m\u001b[1;33m.\u001b[0m\u001b[0mtsa\u001b[0m\u001b[1;33m.\u001b[0m\u001b[0mar_model\u001b[0m \u001b[1;32mimport\u001b[0m \u001b[0mAR\u001b[0m\u001b[1;33m\u001b[0m\u001b[0m\n",
      "\u001b[0;31mImportError\u001b[0m: No module named 'pandas.plotting'"
     ]
    }
   ],
   "source": [
    "from pandas.plotting import lag_plot\n",
    "from pandas.plotting import autocorrelation_plot\n",
    "from sklearn.metrics import mean_squared_error\n",
    "from statsmodels.graphics.tsaplots import plot_acf\n",
    "from statsmodels.tsa.ar_model import AR\n",
    "\n",
    "sns.set_style('darkgrid')\n",
    "%matplotlib inline"
   ]
  },
  {
   "cell_type": "markdown",
   "metadata": {},
   "source": [
    "### Part 1: Reading Data (15 points)\n",
    "Read in the data. It is in a .txt file, but you can read it in with 'pd.read_csv()' - you may want to consider the  'sep', 'parse_dates', 'usecols', 'infer_datetime_format', 'keep_default_na', 'skip_blank_lines', 'skiprows', and 'dtype' arguements in the function call. \n",
    "<br><br>\n",
    "You also may want to use the 'nrows' arguement or use a limited version of the dataset as you adjust these, as it is a large one. \n",
    "<br><br>\n",
    "Use the column names = ['Date', 'Global_active_power', 'Global_reactive_power']\n",
    "(15 points)"
   ]
  },
  {
   "cell_type": "code",
   "execution_count": null,
   "metadata": {
    "collapsed": true
   },
   "outputs": [],
   "source": [
    "pwr_consumption = pd.read_csv('household_power_consumption.txt', #####your code here#####\n",
    "\n",
    "#####your code here##### # group the newly-cleaned data by date, using the .sum() function to aggregate"
   ]
  },
  {
   "cell_type": "markdown",
   "metadata": {},
   "source": [
    "### Part 2: Visualizing Time-Series (10 points)\n",
    "Plot data for 'global_active_pwr' and 'global_reactive_pwr' on a time-series. In addition to a standard line plot, also generate a plot using lag_plot() function to examine the correlation. So, your output should have 4 plots. Describe your findings.\n",
    "<br><br>\n",
    "Make a function that takes 2 arguments (you may use additional) - a plotting function & data containing the 2 required columns (global_active_pwr, global_reactive_pwr) and then generates the plot specified.\n",
    "<br><br>\n",
    "Make sure the plots have a title and the axes are labelled. (10 points)"
   ]
  },
  {
   "cell_type": "code",
   "execution_count": null,
   "metadata": {
    "collapsed": true
   },
   "outputs": [],
   "source": [
    "glb_active_pwr   = #####your code here#####\n",
    "glb_reactive_pwr = #####your code here#####\n",
    "\n",
    "def time_series_plotting(func, series1, series2, *args):\n",
    "    \"\"\"\n",
    "    takes plotting function, 2 time-series and additional arguments (if required)\n",
    "    \"\"\"\n",
    "    \n",
    "    #####your code here#####\n",
    "    \n",
    "    plt.show()\n",
    "\n",
    "time_series_plotting(#####your code here#####, glb_active_pwr, glb_reactive_pwr)\n",
    "time_series_plotting(#####your code here#####, glb_active_pwr, glb_reactive_pwr)"
   ]
  },
  {
   "cell_type": "markdown",
   "metadata": {},
   "source": [
    "(Describe your findings here)"
   ]
  },
  {
   "cell_type": "markdown",
   "metadata": {},
   "source": [
    "### Part 3: Time-Series Forecasting using AR(1) (15 points)\n",
    "Fit an autoregressive model to the data, and use it to make predictions over the next 30 days of useage (defined by creating a test set from the last 30 days of available data). \n",
    "1. Perform a train-test split on time-series data. Explain why random sampling isn't the best option for time-series. \n",
    "2. Fit AR(1) model\n",
    "3. Predict on test set\n",
    "4. Calculate Root-Mean Squared Error (RMSE) \n",
    "$$ RMSE = \\frac{1}{N} \\sum_{i=0}^N \\sqrt{ (\\hat{y}_i - y_i)^2 } $$"
   ]
  },
  {
   "cell_type": "code",
   "execution_count": null,
   "metadata": {
    "collapsed": true
   },
   "outputs": [],
   "source": [
    "def fit_AR1(series):\n",
    "    \"\"\"\n",
    "    Takes in a Time-series, splits into train and test, fits AR(1) model, predicts on the test set, calculates error\n",
    "    and return the predictions and the test set for visualization\n",
    "    \"\"\"\n",
    "    # Perform a train-test split on the dataset keeping ~70% for the training set\n",
    "    #train, test = #####your code here#####\n",
    "    \n",
    "    # Fit AR(1) model\n",
    "    #####your code here#####\n",
    "    \n",
    "    # Get the predictions in an array\n",
    "    #predictions = #####your code here#####\n",
    "    \n",
    "    # Obtain and print Root-Mean Squared Error (RMSE)\n",
    "    #####your code here#####\n",
    "\n",
    "    return test, predictions\n",
    "\n",
    "t1, p1 = fit_AR1(glb_active_pwr)\n",
    "t2, p2 = fit_AR1(glb_reactive_pwr)\n",
    "\n",
    "fig, ax = plt.subplots(2, figsize=(16,6))\n",
    "\n",
    "plt.subplot(121)\n",
    "# Visualize actual values vs predicted values for 'Global Active Power'\n",
    "#####your code here#####plt.title('Global Active Power')\n",
    "plt.legend()\n",
    "\n",
    "plt.subplot(122)\n",
    "# Visualize actual values vs predicted values for 'Global Reactive Power'\n",
    "#####your code here#####\n",
    "plt.title('Global Reactive Power')\n",
    "plt.legend()\n",
    "\n",
    "plt.show()"
   ]
  },
  {
   "cell_type": "markdown",
   "metadata": {},
   "source": [
    "(Reasoning for train-test split here)"
   ]
  },
  {
   "cell_type": "markdown",
   "metadata": {},
   "source": [
    "(Describe your findings here)"
   ]
  }
 ],
 "metadata": {
  "anaconda-cloud": {},
  "kernelspec": {
   "display_name": "Python [default]",
   "language": "python",
   "name": "python3"
  },
  "language_info": {
   "codemirror_mode": {
    "name": "ipython",
    "version": 3
   },
   "file_extension": ".py",
   "mimetype": "text/x-python",
   "name": "python",
   "nbconvert_exporter": "python",
   "pygments_lexer": "ipython3",
   "version": "3.5.2"
  }
 },
 "nbformat": 4,
 "nbformat_minor": 2
}
